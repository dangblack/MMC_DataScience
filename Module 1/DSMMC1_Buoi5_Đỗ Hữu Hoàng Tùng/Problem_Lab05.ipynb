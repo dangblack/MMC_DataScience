{
  "nbformat": 4,
  "nbformat_minor": 0,
  "metadata": {
    "colab": {
      "provenance": []
    },
    "kernelspec": {
      "name": "python3",
      "display_name": "Python 3"
    },
    "language_info": {
      "name": "python"
    }
  },
  "cells": [
    {
      "cell_type": "markdown",
      "source": [
        "#Bài tập 1: Thao tác với ma trận  \n",
        "**Lý thuyết**:  \n",
        "NumPy cung cấp các công cụ mạnh mẽ để thao tác ma trận, bao gồm tính toán các định thức, tìm nghịch đảo và tính toán các giá trị riêng và vectơ riêng.\n",
        "  \n",
        "**Đề bài**:  \n",
        "Tạo ma trận 5x5 ngẫu nhiên và thực hiện các thao tác sau:  \n",
        "* Tính định thức (determinant) của ma trận.  \n",
        "* Tìm nghịch đảo (transpose) của ma trận.  \n",
        "* Tính các giá trị riêng (eigent value) và vectơ riêng (eigent vector) của ma trận.   \n",
        "(Phần này sẽ liên quan tới đại số tuyến tính, mọi người có thể tự tìm hiểu để hiểu chi tiết về các khái niệm trên)\n",
        "\n",
        "<details>\n",
        "  <summary>Hint</summary>\n",
        "\n",
        "```python\n",
        "import numpy as np\n",
        "\n",
        "# Generate a random 5x5 matrix\n",
        "matrix = np.random.rand(5, 5)\n",
        "\n",
        "# Compute determinant\n",
        "det = np.linalg.det(matrix)\n",
        "\n",
        "# Find inverse\n",
        "inverse = np.linalg.inv(matrix)\n",
        "\n",
        "# Calculate eigenvalues and eigenvectors\n",
        "eigenvalues, eigenvectors = np.linalg.eig(matrix)\n",
        "\n",
        "```\n",
        "</details>"
      ],
      "metadata": {
        "id": "jxgT4r6ovuvd"
      }
    },
    {
      "cell_type": "code",
      "execution_count": 2,
      "metadata": {
        "id": "-SEd8zd9tBN8",
        "outputId": "4c93ecc1-aebf-4460-abcc-f65ea272d9e3",
        "colab": {
          "base_uri": "https://localhost:8080/"
        }
      },
      "outputs": [
        {
          "output_type": "stream",
          "name": "stdout",
          "text": [
            "[[0.05411012 0.35882188 0.12435202 0.42542469 0.31821882]\n",
            " [0.47326939 0.23887722 0.02615235 0.65635893 0.74507568]\n",
            " [0.8286931  0.7230206  0.68037097 0.86744466 0.68002885]\n",
            " [0.85835414 0.82155944 0.24873226 0.42947463 0.17561017]\n",
            " [0.14480339 0.07135769 0.63012284 0.12230782 0.52560439]] 0.04608871946580413 [[-2.57020778  0.69878514  0.54062969  0.46883066 -0.29058844]\n",
            " [ 2.72202091 -0.38726921 -2.14953417  1.94294154  1.03289005]\n",
            " [-0.46502941 -1.29630501  1.56986426 -0.83338463  0.36648148]\n",
            " [-0.18486303 -0.53407085  3.13130045 -2.31034479 -2.41037656]\n",
            " [ 0.93905898  1.53842058 -2.46780487  1.14378009  1.96393544]] [ 2.15391369+0.j          0.26532601+0.29518863j  0.26532601-0.29518863j\n",
            " -0.46234863+0.j         -0.29377976+0.j        ] [[ 0.24142006+0.j         -0.09445516-0.03780764j -0.09445516+0.03780764j\n",
            "   0.22240329+0.j         -0.64042367+0.j        ]\n",
            " [ 0.35057525+0.j          0.09806484-0.2744961j   0.09806484+0.2744961j\n",
            "   0.59132668+0.j          0.74856537+0.j        ]\n",
            " [ 0.71883883+0.j         -0.15754683+0.34425098j -0.15754683-0.34425098j\n",
            "   0.06254025+0.j          0.11599795+0.j        ]\n",
            " [ 0.42621483+0.j         -0.55792698+0.04658695j -0.55792698-0.04658695j\n",
            "  -0.7723827 +0.j         -0.12466229+0.j        ]\n",
            " [ 0.34702305+0.j          0.66925434+0.j          0.66925434-0.j\n",
            "  -0.01957588+0.j         -0.02260986+0.j        ]]\n"
          ]
        }
      ],
      "source": [
        "# Your code here\n",
        "import numpy as np\n",
        "\n",
        "matrix = np.random.rand(5, 5)\n",
        "\n",
        "det = np.linalg.det(matrix)\n",
        "\n",
        "inverse = np.linalg.inv(matrix)\n",
        "\n",
        "eigenvalues, eigenvectors = np.linalg.eig(matrix)\n",
        "\n",
        "print(matrix,det,inverse,eigenvalues,eigenvectors)"
      ]
    },
    {
      "cell_type": "markdown",
      "source": [
        "# Bài tập 2: Optimization\n",
        "**Lý thuyết:**  \n",
        "Gradient descent là một thuật toán tối ưu hóa được sử dụng để cực tiểu hóa hàm bằng cách di chuyển lặp đi lặp lại theo hướng dốc xuống.\n",
        "\n",
        "**Đề bài:**  \n",
        "Triển khai gradient descent sử dụng NumPy để tối ưu hàm số sau:\n",
        " $$ f(x) = x^2 + 5 \\sin(x) $$\n",
        "<details>\n",
        "  <summary>Hint</summary>\n",
        "\n",
        "```python\n",
        "import numpy as np\n",
        "\n",
        "def gradient_descent(x, learning_rate, iterations):\n",
        "    for _ in range(iterations):\n",
        "        gradient = 2*x + 5*np.cos(x)  # Đạo hàm riêng theo x\n",
        "        x = x - learning_rate * gradient # Cập nhật tham số\n",
        "    return x\n",
        "\n",
        "# Khởi tạo các hyperparameters\n",
        "x_initial = 5  # Input đầu vào\n",
        "learning_rate = 0.1 # Tốc độ học\n",
        "iterations = 100 # Số lần lặp\n",
        "\n",
        "# Run gradient descent\n",
        "minima = gradient_descent(x_initial, learning_rate, iterations)\n",
        "```\n",
        "\n",
        "</details>"
      ],
      "metadata": {
        "id": "j5y16Eqkxd_o"
      }
    },
    {
      "cell_type": "code",
      "source": [
        "# Your code here\n",
        "def gradient_descent(x, learning_rate, iterations):\n",
        "    for _ in range(iterations):\n",
        "        gradient = 2*x + 5*np.cos(x)\n",
        "        x = x - learning_rate * gradient\n",
        "    return x\n",
        "\n",
        "x = 10\n",
        "learning_rate = 0.01\n",
        "iterations = 1000\n",
        "\n",
        "optimal = gradient_descent(x, learning_rate, iterations)\n",
        "optimal"
      ],
      "metadata": {
        "id": "s3Q3kOnuwxxW",
        "outputId": "dc97a036-fcca-45c0-c3cc-f364cc3d4c3a",
        "colab": {
          "base_uri": "https://localhost:8080/"
        }
      },
      "execution_count": 4,
      "outputs": [
        {
          "output_type": "execute_result",
          "data": {
            "text/plain": [
              "-1.1105105035811105"
            ]
          },
          "metadata": {},
          "execution_count": 4
        }
      ]
    },
    {
      "cell_type": "markdown",
      "source": [
        "# Bài tập 3: Phân tích thống kê  \n",
        "**Lý thuyết**:  \n",
        "NumPy cung cấp các chức năng để phân tích thống kê, bao gồm tính toán giá trị trung bình (mean), trung vị (median), độ lệch chuẩn (standard deviation) và mối tương quan (correlation).  \n",
        "\n",
        "**Đề Bài**:  \n",
        "Thực hiện phân tích thống kê trên tập dữ liệu bai3.csv bằng NumPy:  \n",
        "* Tính giá trị trung bình, trung vị và độ lệch chuẩn của tập dữ liệu.\n",
        "* Tính toán ma trận tương quan giữa các biến khác nhau.\n",
        "* Xác định các ngoại lệ trong tập dữ liệu bằng cách sử dụng điểm z.\n",
        "\n",
        "<details>\n",
        "  <summary>Hint</summary>\n",
        "\n",
        "```python\n",
        "  # Load dataset\n",
        "  data = np.loadtxt('dataset.csv', delimiter=',')\n",
        "\n",
        "  # Calculate mean, median, and standard deviation\n",
        "  mean = np.mean(data, axis=0)\n",
        "  median = np.median(data, axis=0)\n",
        "  std_dev = np.std(data, axis=0)\n",
        "\n",
        "  # Compute correlation matrix\n",
        "  correlation_matrix = np.corrcoef(data, rowvar=False)\n",
        "\n",
        "  # Identify outliers using z-scores\n",
        "  z_scores = np.abs((data - mean) / std_dev)\n",
        "  outliers = np.where(z_scores > 3)\n",
        "```\n",
        "</details>"
      ],
      "metadata": {
        "id": "r9TwMgo-y5tm"
      }
    },
    {
      "cell_type": "code",
      "source": [
        "# Your code here\n",
        "\n",
        "\n",
        "with open('bai3.csv') as f:\n",
        "    lines = (line for line in f if not line.startswith('#'))\n",
        "    data = np.loadtxt(lines, delimiter=',', skiprows=1)\n",
        "mean = np.mean(data, axis=0)\n",
        "median = np.median(data, axis=0)\n",
        "std = np.std(data, axis=0)\n",
        "correlation_matrix = np.corrcoef(data, rowvar=False)\n",
        "z_scores = np.abs((data - mean) / std)\n",
        "print(z_scores)\n",
        "outliers = np.where(z_scores > 3)\n",
        "print(outliers)"
      ],
      "metadata": {
        "id": "KjYxequp1pld",
        "outputId": "cae55d0e-9dba-45b1-dc29-8c6374183712",
        "colab": {
          "base_uri": "https://localhost:8080/"
        }
      },
      "execution_count": 22,
      "outputs": [
        {
          "output_type": "stream",
          "name": "stdout",
          "text": [
            "[[1.4172651  0.53512005 1.3392514  0.81862899 1.30034641]\n",
            " [0.58733509 0.80268007 0.17537816 0.63377728 0.16632338]\n",
            " [0.20429046 1.53847014 0.86094733 1.21473979 0.77113566]\n",
            " [0.81716186 0.033445   0.57396488 0.15844432 0.81649658]\n",
            " [1.39172879 1.30435512 1.45085568 1.55803581 1.42130886]]\n",
            "(array([], dtype=int64), array([], dtype=int64))\n"
          ]
        }
      ]
    },
    {
      "cell_type": "markdown",
      "source": [
        "# Bài 4: Thao tác với tensor\n",
        "Đề cho một tensor đại diện cho một hình ảnh thang độ xám. Thực hiện các thao tác sau:\n",
        "\n",
        "1. Reshape: Reshape tensor thành một hình dạng khác trong khi vẫn đảm bảo tổng số phần tử không đổi.\n",
        "2. Transpose: Transpose tensor dọc theo các trục được chỉ định.\n",
        "3. Slice: Trích xuất một tập hợp con của tensor bằng cách cắt dọc theo các kích thước được chỉ định.\n",
        "4. Concatenate: Concatenate nhiều tensor dọc theo các trục được chỉ định.\n",
        "5. Các phép toán theo phần tử: Thực hiện các phép toán theo phần tử như cộng, trừ, nhân và chia với các giá trị vô hướng hoặc các tensor khác.\n",
        "6. Hoạt động rút gọn: Thực hiện các hoạt động rút gọn như tính tổng, trung bình, tối thiểu và tối đa dọc theo các trục được chỉ định.\n",
        "7. Indexing: Truy cập các phần tử riêng lẻ hoặc các tensor phụ bằng cách sử dụng các chỉ số nguyên hoặc boolean mark.\n",
        "\n",
        "<details>\n",
        "  <summary>Hint</summary>\n",
        "\n",
        "  ```python\n",
        "    # 1. Reshape the tensor\n",
        "    reshaped_tensor = image_tensor.reshape(1, 9)\n",
        "\n",
        "    # 2. Transpose the tensor\n",
        "    transposed_tensor = image_tensor.T\n",
        "\n",
        "    # 3. Slice the tensor\n",
        "    sliced_tensor = image_tensor[:2, :2]\n",
        "\n",
        "    # 4. Concatenate tensors\n",
        "    concatenated_tensor = np.concatenate((image_tensor, image_tensor), axis=0)\n",
        "\n",
        "    # 5. Element-wise operations\n",
        "    added_tensor = image_tensor + 0.1\n",
        "    multiplied_tensor = image_tensor * 2\n",
        "\n",
        "    # 6. Reduction operations\n",
        "    sum_tensor = np.sum(image_tensor)\n",
        "    mean_tensor = np.mean(image_tensor, axis=0)\n",
        "    max_tensor = np.max(image_tensor, axis=1)\n",
        "\n",
        "    # 7. Indexing\n",
        "    element = image_tensor[1, 2]\n",
        "  ```\n",
        "</details>"
      ],
      "metadata": {
        "id": "ZX1eKlF805bM"
      }
    },
    {
      "cell_type": "code",
      "source": [
        "image_tensor = np.array([\n",
        "    [0.1, 0.2, 0.3],\n",
        "    [0.4, 0.5, 0.6],\n",
        "    [0.7, 0.8, 0.9]\n",
        "])"
      ],
      "metadata": {
        "id": "sKx_zUMw041d"
      },
      "execution_count": 24,
      "outputs": []
    },
    {
      "cell_type": "code",
      "source": [
        "# your code here\n",
        "reshaped = image_tensor.reshape(1,9)\n",
        "\n",
        "\n",
        "transposed = image_tensor.T\n",
        "\n",
        "sliced_tensor = image_tensor[1:2, 2:3]\n",
        "\n",
        "\n",
        "concatenated_tensor = np.concatenate((image_tensor, image_tensor), axis=0)\n",
        "\n",
        "added_tensor = image_tensor + 0.1\n",
        "multiplied_tensor = image_tensor * 2\n",
        "\n",
        "\n",
        "sum_tensor = np.sum(image_tensor)\n",
        "mean_tensor = np.mean(image_tensor, axis=0)\n",
        "max_tensor = np.max(image_tensor, axis=1)\n",
        "\n",
        "element = image_tensor[0][2]"
      ],
      "metadata": {
        "id": "aDy3tPzby5RN"
      },
      "execution_count": 35,
      "outputs": []
    }
  ]
}