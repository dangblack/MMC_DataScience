{
 "cells": [
  {
   "cell_type": "markdown",
   "id": "5bc09fb9-6aea-40a3-b209-0823290062e1",
   "metadata": {},
   "source": [
    "# Exercise 1"
   ]
  },
  {
   "cell_type": "code",
   "execution_count": 20,
   "id": "01afdfd5-fcd6-4d6c-b142-23ad0687b956",
   "metadata": {},
   "outputs": [
    {
     "name": "stdin",
     "output_type": "stream",
     "text": [
      "Nhập số centimet:  30.48\n"
     ]
    },
    {
     "name": "stdout",
     "output_type": "stream",
     "text": [
      "(12.0, 1.0)\n"
     ]
    }
   ],
   "source": [
    "# Question 1\n",
    "def converter(number):\n",
    "    inch = number/2.54\n",
    "    foot = inch/12\n",
    "    return round(inch,2),round(foot,2)\n",
    "\n",
    "cm = float(input(\"Nhập số centimet: \"))\n",
    "print(converter(cm))"
   ]
  },
  {
   "cell_type": "code",
   "execution_count": 21,
   "id": "06dbb81c-429f-4a32-91bd-fbb7d2a525ac",
   "metadata": {},
   "outputs": [
    {
     "name": "stdin",
     "output_type": "stream",
     "text": [
      "Nhập số giây:  10000\n"
     ]
    },
    {
     "name": "stdout",
     "output_type": "stream",
     "text": [
      "{'Hour': 2, 'Minute': 46, 'Second': 40.0}\n"
     ]
    }
   ],
   "source": [
    "# Question 2\n",
    "def converter_2(n):\n",
    "    if n < 0 or n > 68399:\n",
    "        print('Wrong range')\n",
    "    hour = int(n/3600)\n",
    "    n %= 3600\n",
    "    minute = int(n/60)\n",
    "    second = n%60\n",
    "    return {'Hour':hour,'Minute':minute,'Second':second}\n",
    "\n",
    "time = float(input(\"Nhập số giây: \"))\n",
    "print (converter2(time))"
   ]
  },
  {
   "cell_type": "code",
   "execution_count": 22,
   "id": "145400ed-5fe5-4449-acbd-cee33718ae88",
   "metadata": {},
   "outputs": [
    {
     "name": "stdin",
     "output_type": "stream",
     "text": [
      "Nhập số thứ nhất:  1\n",
      "Nhập số thứ hai:  2\n",
      "Nhập số thứ ba:  3\n",
      "Nhập số thứ tư:  4\n"
     ]
    },
    {
     "name": "stdout",
     "output_type": "stream",
     "text": [
      "(1, 4)\n"
     ]
    }
   ],
   "source": [
    "# Question 3\n",
    "def find_min_max(a1, a2, a3, a4):\n",
    "    list = [a1, a2, a3, a4]\n",
    "    min = max = list[0]\n",
    "    for i in list:\n",
    "        if i > max:\n",
    "            max = i\n",
    "        if i < min:\n",
    "            min = i\n",
    "    return min,max\n",
    "\n",
    "a1 = int(input(\"Nhập số thứ nhất: \"))\n",
    "a2 = int(input(\"Nhập số thứ hai: \"))\n",
    "a3 = int(input(\"Nhập số thứ ba: \"))\n",
    "a4 = int(input(\"Nhập số thứ tư: \"))\n",
    "\n",
    "\n",
    "print (find_min_max(a1,a2,a3,a4))"
   ]
  },
  {
   "cell_type": "code",
   "execution_count": 23,
   "id": "f8332633-0af1-4ae3-a645-09e1388e4944",
   "metadata": {},
   "outputs": [
    {
     "name": "stdin",
     "output_type": "stream",
     "text": [
      "Nhập số thứ nhất:  1 \n",
      "Nhập số thứ hai:  2\n"
     ]
    },
    {
     "name": "stdout",
     "output_type": "stream",
     "text": [
      "Số thứ nhất nhỏ hơn số thứ hai\n",
      "None\n"
     ]
    }
   ],
   "source": [
    "# Question 4\n",
    "def subtraction(a, b):\n",
    "    temp = a - b\n",
    "    if temp > 0:\n",
    "        print('Số thứ nhất lớn hơn số thứ hai')\n",
    "    if temp < 0:\n",
    "        print('Số thứ nhất nhỏ hơn số thứ hai')\n",
    "\n",
    "a = int(input(\"Nhập số thứ nhất: \"))\n",
    "b = int(input(\"Nhập số thứ hai: \"))\n",
    "\n",
    "print(subtraction(a,b))"
   ]
  },
  {
   "cell_type": "code",
   "execution_count": 24,
   "id": "0fb384a1-5c30-4dfd-b057-0c0a0a78f833",
   "metadata": {},
   "outputs": [
    {
     "name": "stdin",
     "output_type": "stream",
     "text": [
      "Nhập số thứ nhất:  4\n",
      "Nhập số thứ hai:  2\n"
     ]
    },
    {
     "name": "stdout",
     "output_type": "stream",
     "text": [
      "a chia hết cho b\n",
      "None\n"
     ]
    }
   ],
   "source": [
    "# Question 5\n",
    "def check_divide(a, b):\n",
    "    remain = a%b\n",
    "    if remain == 0:\n",
    "        print('a chia hết cho b')\n",
    "    else:\n",
    "        print('a không chia hết cho b')\n",
    "\n",
    "a = int(input(\"Nhập số thứ nhất: \"))\n",
    "b = int(input(\"Nhập số thứ hai: \"))\n",
    "print(check_divide(a, b))"
   ]
  },
  {
   "cell_type": "code",
   "execution_count": 26,
   "id": "1c91cea5-02e4-4f4f-9a44-df1d2e0e67e9",
   "metadata": {},
   "outputs": [
    {
     "name": "stdin",
     "output_type": "stream",
     "text": [
      "Nhập điểm toán:  8.6\n",
      "Nhập điểm lý:  9.5\n",
      "Nhập điểm hóa:  5\n"
     ]
    },
    {
     "name": "stdout",
     "output_type": "stream",
     "text": [
      "Loại khá\n"
     ]
    }
   ],
   "source": [
    "# Question 6\n",
    "def student_rank(math, physics,chemistry):\n",
    "    grade = (math*2 + physics + chemistry)/4\n",
    "    if grade >= 9:\n",
    "        return 'Loại xuất sắc'\n",
    "    elif grade < 9 and grade >= 8:\n",
    "        return 'Loại giỏi'\n",
    "    elif grade < 8 and grade >= 7:\n",
    "        return 'Loại khá'\n",
    "    elif grade < 7 and grade >= 6:\n",
    "        return 'Loại trung bình khá'\n",
    "    elif grade < 6 and grade >= 5:\n",
    "        return 'Loại trung bình'\n",
    "    else:\n",
    "        return 'Loại kém'\n",
    "\n",
    "a = float(input(\"Nhập điểm toán: \"))\n",
    "b = float(input(\"Nhập điểm lý: \"))\n",
    "c = float(input(\"Nhập điểm hóa: \"))\n",
    "print(student_rank(math=a, physics=b,chemistry=c))    "
   ]
  },
  {
   "cell_type": "markdown",
   "id": "c8867cf0-44c5-450e-8f8f-8d84e7cd0d18",
   "metadata": {},
   "source": [
    "# Exercise 2"
   ]
  },
  {
   "cell_type": "code",
   "execution_count": 48,
   "id": "5b605215-b542-4f2c-ab56-8dea8f606dff",
   "metadata": {},
   "outputs": [
    {
     "name": "stdin",
     "output_type": "stream",
     "text": [
      "Nhập số nguyên:  10345\n"
     ]
    },
    {
     "name": "stdout",
     "output_type": "stream",
     "text": [
      "Tổng của các số trong số nguyên 10345 là: 13\n"
     ]
    }
   ],
   "source": [
    "# Question 1\n",
    "def calculate_digit_sum(integer):\n",
    "    num_string = str(integer)\n",
    "    sum = 0\n",
    "    for digit in num_string:\n",
    "        sum += int(digit)\n",
    "    return sum\n",
    "\n",
    "n = int(input(\"Nhập số nguyên: \"))\n",
    "print(f'Tổng của các số trong số nguyên {n} là: {calculate_digit_sum(n)}')\n"
   ]
  },
  {
   "cell_type": "markdown",
   "id": "3173cf59-cb6e-4faa-a29c-5802190d09bc",
   "metadata": {},
   "source": [
    "## Với những bài số nguyên tố do ko có giới hạn nên tạm lấy phạm vi là 100"
   ]
  },
  {
   "cell_type": "code",
   "execution_count": 37,
   "id": "fa135a9e-628d-45b9-887a-df29993e2ed2",
   "metadata": {},
   "outputs": [
    {
     "name": "stdin",
     "output_type": "stream",
     "text": [
      "Nhập số nguyên:  28\n"
     ]
    },
    {
     "name": "stdout",
     "output_type": "stream",
     "text": [
      "Số nguyên 28 là tích của các số nguyên tố: [2, 7, 2]\n"
     ]
    }
   ],
   "source": [
    "# Question 2\n",
    "mark = [True for i in range(100)]\n",
    "def Eratosthenes(n):\n",
    "    mark[1] = False\n",
    "    for i in range(2, n+1):\n",
    "        if mark[i] == True:\n",
    "            for j in range(i*i, n+1,i):\n",
    "                mark[j] = False\n",
    "\n",
    "def prime_decomposed(n):\n",
    "    Eratosthenes(n)\n",
    "    prime_list = [i for i in range(2,n+1) if mark[i] == True ]\n",
    "    res = []\n",
    "    while n > 1:\n",
    "        for i in prime_list:\n",
    "            if n%i == 0:\n",
    "                n/=i\n",
    "                res.append(i)\n",
    "    return res\n",
    "\n",
    "n = int(input(\"Nhập số nguyên: \"))\n",
    "print (f'Số nguyên {n} là tích của các số nguyên tố: {prime_decomposed(n)}')\n"
   ]
  },
  {
   "cell_type": "code",
   "execution_count": 39,
   "id": "f47437cf-a7b0-4520-8fc2-cd7bba7e8581",
   "metadata": {},
   "outputs": [
    {
     "name": "stdin",
     "output_type": "stream",
     "text": [
      "Nhập số nguyên:  50\n"
     ]
    },
    {
     "name": "stdout",
     "output_type": "stream",
     "text": [
      "Các số nguyên nhỏ hơn 50 là: [2, 3, 5, 7, 11, 13, 17, 19, 23, 29, 31, 37, 41, 43, 47]\n"
     ]
    }
   ],
   "source": [
    "# Question 3\n",
    "mark = [True for i in range(100)]\n",
    "def Eratosthenes(n):\n",
    "    mark[1] = False\n",
    "    for i in range(2, n+1):\n",
    "        if mark[i] == True:\n",
    "            for j in range(i*i, n+1,i):\n",
    "                mark[j] = False\n",
    "\n",
    "                \n",
    "def list_prime(n):\n",
    "    Eratosthenes(n)\n",
    "    return [i for i in range (2,n) if mark[i]==True]\n",
    "\n",
    "n = int(input(\"Nhập số nguyên: \"))\n",
    "print (f'Các số nguyên nhỏ hơn {n} là: {list_prime(n)}')\n",
    "    "
   ]
  },
  {
   "cell_type": "code",
   "execution_count": 43,
   "id": "e2f72127-b65b-4f01-b35d-fa2fd27c800b",
   "metadata": {},
   "outputs": [
    {
     "name": "stdin",
     "output_type": "stream",
     "text": [
      "Nhập số nguyên:  10\n"
     ]
    },
    {
     "name": "stdout",
     "output_type": "stream",
     "text": [
      "10 số nguyên đầu tiên là là: [2, 3, 5, 7, 11, 13, 17, 19, 23, 29]\n"
     ]
    }
   ],
   "source": [
    "# Question 4\n",
    "mark = [True for i in range(100)]\n",
    "def Eratosthenes(n):\n",
    "    mark[1] = False\n",
    "    for i in range(2, n+1):\n",
    "        if mark[i] == True:\n",
    "            for j in range(i*i, n+1,i):\n",
    "                mark[j] = False\n",
    "\n",
    "                \n",
    "def first_n_prime(n):\n",
    "    Eratosthenes(99)\n",
    "    i = 2\n",
    "    res = []\n",
    "    while len(res) < n:\n",
    "        if mark[i] == True:\n",
    "            res.append(i)\n",
    "        i+=1\n",
    "    return res\n",
    "\n",
    "n = int(input(\"Nhập số nguyên: \"))\n",
    "print (f'{n} số nguyên đầu tiên là là: {first_n_prime(n)}')"
   ]
  },
  {
   "cell_type": "code",
   "execution_count": 49,
   "id": "1c3e9259-1a21-41da-8139-0a53384ecfa1",
   "metadata": {},
   "outputs": [
    {
     "name": "stdin",
     "output_type": "stream",
     "text": [
      "Nhập số thứ nhất:  100\n",
      "Nhập số thứ 2:  10\n"
     ]
    },
    {
     "name": "stdout",
     "output_type": "stream",
     "text": [
      "Ước chung lớn nhất của 100 và 10 là: 10\n",
      "Bội chung nhỏ nhất của 100 và 10 là: 100\n"
     ]
    }
   ],
   "source": [
    "# Question 5\n",
    "def find_gcd(a, b):\n",
    "    while b:\n",
    "        a, b = b, a % b\n",
    "    return a\n",
    "\n",
    "def find_lcm(a, b):\n",
    "    return a * b // find_gcd(a, b)\n",
    "\n",
    "a = int(input(\"Nhập số thứ nhất: \"))\n",
    "b = int(input(\"Nhập số thứ 2: \"))\n",
    "\n",
    "print(f'Ước chung lớn nhất của {a} và {b} là: {find_gcd(a, b)}')\n",
    "print(f'Bội chung nhỏ nhất của {a} và {b} là: {find_lcm(a, b)}')\n"
   ]
  },
  {
   "cell_type": "code",
   "execution_count": 55,
   "id": "261c8f9d-891b-486a-8aac-442d42b946f3",
   "metadata": {},
   "outputs": [
    {
     "name": "stdin",
     "output_type": "stream",
     "text": [
      "Nhập số nguyên:  6\n"
     ]
    },
    {
     "name": "stdout",
     "output_type": "stream",
     "text": [
      "Số fibonacci thứ 6 là: 13\n"
     ]
    }
   ],
   "source": [
    "# Question 6\n",
    "def fibonacci(n):\n",
    "    if n == 0:\n",
    "        return 1\n",
    "    if n == 1:\n",
    "        return 1\n",
    "    return fibonacci(n-1) + fibonacci(n-2)\n",
    "\n",
    "n = int(input(\"Nhập số nguyên: \"))\n",
    "print(f'Số fibonacci thứ {n} là: {fibonacci(n)}')"
   ]
  },
  {
   "cell_type": "code",
   "execution_count": 4,
   "id": "d89f2f32-84f1-47d0-b37e-4d30ff4e07b1",
   "metadata": {},
   "outputs": [
    {
     "name": "stdin",
     "output_type": "stream",
     "text": [
      "Nhập một số tự nhiên n:  10\n"
     ]
    },
    {
     "name": "stdout",
     "output_type": "stream",
     "text": [
      "Các số Fibonacci nhỏ hơn 10 và là số nguyên tố là: [2, 3, 5]\n"
     ]
    }
   ],
   "source": [
    "# Question 7\n",
    "def fibonacci(n):\n",
    "    fib_list = [0, 1]\n",
    "    while fib_list[-1] + fib_list[-2] < n:\n",
    "        fib_list.append(fib_list[-1] + fib_list[-2])\n",
    "    return fib_list\n",
    "\n",
    "mark = [True for i in range(100)]\n",
    "def Eratosthenes(n):\n",
    "    mark[1] = False\n",
    "    mark[0] = False\n",
    "    for i in range(2, n+1):\n",
    "        if mark[i] == True:\n",
    "            for j in range(i*i, n+1,i):\n",
    "                mark[j] = False\n",
    "\n",
    "\n",
    "def fibonacci_primes_less_than_n(n):\n",
    "    fib_list = fibonacci(n)\n",
    "    result = []\n",
    "    Eratosthenes(n)\n",
    "    for num in fib_list:\n",
    "        if mark[num]==True:\n",
    "            result.append(num)\n",
    "    return result\n",
    "\n",
    "\n",
    "n = int(input(\"Nhập một số tự nhiên n: \"))\n",
    "\n",
    "fibonacci_primes = fibonacci_primes_less_than_n(n)\n",
    "print(\"Các số Fibonacci nhỏ hơn\", n, \"và là số nguyên tố là:\", fibonacci_primes)"
   ]
  },
  {
   "cell_type": "code",
   "execution_count": null,
   "id": "e860b0d5-a166-4485-bc3d-9798efa7600c",
   "metadata": {},
   "outputs": [],
   "source": [
    "# Question 8: Là question 2 và 6\n",
    "\n"
   ]
  },
  {
   "cell_type": "code",
   "execution_count": 5,
   "id": "8948c11b-4101-4b61-9c57-a318c18c2d39",
   "metadata": {},
   "outputs": [
    {
     "name": "stdin",
     "output_type": "stream",
     "text": [
      "Nhập một số tự nhiên n:  10\n"
     ]
    },
    {
     "name": "stdout",
     "output_type": "stream",
     "text": [
      "([1, 2, 5, 10], [2, 5])\n"
     ]
    }
   ],
   "source": [
    "# Question 9\n",
    "mark = [True for i in range(100)]\n",
    "def Eratosthenes(n):\n",
    "    mark[1] = False\n",
    "    for i in range(2, n+1):\n",
    "        if mark[i] == True:\n",
    "            for j in range(i*i, n+1,i):\n",
    "                mark[j] = False\n",
    "\n",
    "def gcd_list(n):\n",
    "    Eratosthenes(n)\n",
    "    list_1 = []\n",
    "    list_prime = []\n",
    "    for i in range(1,n+1):\n",
    "        if n%i==0:\n",
    "            list_1.append(i)\n",
    "            if mark[i]==True:\n",
    "                list_prime.append(i)\n",
    "    return list_1,list_prime\n",
    "    \n",
    "n = int(input(\"Nhập một số tự nhiên n: \"))\n",
    "print(gcd_list(n))       "
   ]
  },
  {
   "cell_type": "code",
   "execution_count": 6,
   "id": "5e7816d7-3be3-49b3-bd89-4d396604a23a",
   "metadata": {},
   "outputs": [
    {
     "name": "stdin",
     "output_type": "stream",
     "text": [
      "Nhập xâu ký tự:   2 con mèo vẰn CON\n"
     ]
    },
    {
     "name": "stdout",
     "output_type": "stream",
     "text": [
      "Xâu ký tự chuẩn hoá: 2 Con Mèo Vằn Con\n"
     ]
    }
   ],
   "source": [
    "# Question 10\n",
    "def normalize_string(s):\n",
    "    s = ' '.join(s.split()).lower()\n",
    "    s = s.title()\n",
    "    return s\n",
    "\n",
    "s= input(\"Nhập xâu ký tự: \")\n",
    "\n",
    "normalized_string = normalize_string(s)\n",
    "print(\"Xâu ký tự chuẩn hoá:\", normalized_string)\n"
   ]
  },
  {
   "cell_type": "code",
   "execution_count": 10,
   "id": "6892300e-b2de-41f6-bd78-a4816567e896",
   "metadata": {},
   "outputs": [
    {
     "name": "stdin",
     "output_type": "stream",
     "text": [
      "Nhập xâu ký tự:  aga ehkksh kshe e\n"
     ]
    },
    {
     "name": "stdout",
     "output_type": "stream",
     "text": [
      "Từ dài nhất trong xâu là: ehkksh\n",
      "Từ đó xuất hiện ở vị trí: 2\n"
     ]
    }
   ],
   "source": [
    "# Question 11\n",
    "def find_longest_word(s):\n",
    "    words = s.split()\n",
    "    \n",
    "    longest_word = \"\"\n",
    "    position = -1\n",
    "    for i, word in enumerate(words):\n",
    "        if len(word) > len(longest_word):\n",
    "            longest_word = word\n",
    "            position = i\n",
    "    \n",
    "    return longest_word, position\n",
    "\n",
    "\n",
    "s = input(\"Nhập xâu ký tự: \")\n",
    "\n",
    "# Tìm từ dài nhất và vị trí của từ đó\n",
    "longest_word, position = find_longest_word(s)\n",
    "\n",
    "# In kết quả\n",
    "print(\"Từ dài nhất trong xâu là:\", longest_word)\n",
    "print(\"Từ đó xuất hiện ở vị trí:\", position + 1) \n",
    "    "
   ]
  },
  {
   "cell_type": "markdown",
   "id": "987901af-0d1c-481c-a6d3-c02fe0ec9b5f",
   "metadata": {},
   "source": [
    "# Exercise 3\n"
   ]
  },
  {
   "cell_type": "code",
   "execution_count": 35,
   "id": "e89a53a3-4550-4e2e-a6ea-f2f8a3e02b72",
   "metadata": {},
   "outputs": [
    {
     "name": "stdout",
     "output_type": "stream",
     "text": [
      "*\n",
      "**\n",
      "***\n",
      "****\n",
      "*****\n",
      "******\n",
      "\n",
      "\n",
      "*******\n",
      "******\n",
      "*****\n",
      "****\n",
      "***\n",
      "**\n",
      "*\n",
      "\n",
      "\n",
      "*******\n",
      " ******\n",
      "  *****\n",
      "   ****\n",
      "    ***\n",
      "     **\n",
      "      *\n",
      "\n",
      "\n",
      "      *\n",
      "     **\n",
      "    ***\n",
      "   ****\n",
      "  *****\n",
      " ******\n"
     ]
    }
   ],
   "source": [
    "# Question 1\n",
    "\n",
    "def a():\n",
    "    for i in range(1,7):\n",
    "        print('*'*i)\n",
    "a()\n",
    "print('\\n')\n",
    "def b():\n",
    "    for i in range(7,0,-1):\n",
    "        print('*'*i)\n",
    "b()\n",
    "print('\\n')\n",
    "def c():\n",
    "    for i in range(7, 0, -1):\n",
    "        print(\" \" * (7 - i) + \"*\" * i)\n",
    "      \n",
    "c()\n",
    "\n",
    "print('\\n')\n",
    "def d():\n",
    "    for i in range(1,7):\n",
    "        print(\" \" * (7-i) + \"*\" * i)\n",
    "      \n",
    "d()\n"
   ]
  },
  {
   "cell_type": "code",
   "execution_count": 12,
   "id": "bebf193a-8d72-42cf-b6ae-a9472ce02090",
   "metadata": {},
   "outputs": [
    {
     "name": "stdin",
     "output_type": "stream",
     "text": [
      "Nhập số tự nhiên: 4\n"
     ]
    },
    {
     "name": "stdout",
     "output_type": "stream",
     "text": [
      "24\n"
     ]
    }
   ],
   "source": [
    "# Question 2\n",
    "def factorial(n):\n",
    "    if n == 0:\n",
    "        return 1\n",
    "    return n * factorial(n-1)\n",
    "\n",
    "n = int(input('Nhập số tự nhiên:'))\n",
    "print(factorial(n))"
   ]
  },
  {
   "cell_type": "code",
   "execution_count": null,
   "id": "8ba6bbcd-ee1f-4b14-9906-da386d64c0a5",
   "metadata": {},
   "outputs": [],
   "source": []
  }
 ],
 "metadata": {
  "kernelspec": {
   "display_name": "Python 3 (ipykernel)",
   "language": "python",
   "name": "python3"
  },
  "language_info": {
   "codemirror_mode": {
    "name": "ipython",
    "version": 3
   },
   "file_extension": ".py",
   "mimetype": "text/x-python",
   "name": "python",
   "nbconvert_exporter": "python",
   "pygments_lexer": "ipython3",
   "version": "3.11.7"
  }
 },
 "nbformat": 4,
 "nbformat_minor": 5
}
