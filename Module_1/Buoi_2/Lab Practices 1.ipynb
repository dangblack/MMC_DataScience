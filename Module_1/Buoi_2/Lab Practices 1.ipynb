{
 "cells": [
  {
   "cell_type": "markdown",
   "metadata": {},
   "source": [
    "# Excercise 1"
   ]
  },
  {
   "cell_type": "markdown",
   "metadata": {},
   "source": [
    "## Question 1: \n",
    "Viết chương trình nhập vào một số thực. Đơn vị tính cho số này là centimet (cm). Hãy in ra số tương đương tính bằng foot (số thực, có 2 số lẻ thập phân) và inch (số thực, có 2 số lẻ thập phân). Với 1 inch = 2.54 cm và 1 foot = 12 inches."
   ]
  },
  {
   "cell_type": "code",
   "execution_count": 7,
   "metadata": {},
   "outputs": [
    {
     "name": "stdout",
     "output_type": "stream",
     "text": [
      "20.0 centimet tương đương với 7.87 inch hoặc 0.66 foot\n"
     ]
    }
   ],
   "source": [
    "cen = float(input('Nhập vào số centimet: '))\n",
    "print(f'{cen} centimet tương đương với {round(cen/2.54,2)} inch hoặc {round(cen/2.54/12,2)} foot')"
   ]
  },
  {
   "cell_type": "markdown",
   "metadata": {},
   "source": [
    "## Question 2:\n",
    "Viết chương trình nhập vào số giây từ 0 tới 68399, đổi số giây này thành dạng [giờ:phút:giây], mỗi thành phần là một số nguyên có 2 chữ số.\n",
    "Ví dụ: 02:11:05"
   ]
  },
  {
   "cell_type": "code",
   "execution_count": 10,
   "metadata": {},
   "outputs": [
    {
     "name": "stdout",
     "output_type": "stream",
     "text": [
      "7500 giây tương đương với 2:5:0\n"
     ]
    }
   ],
   "source": [
    "seconds = int(input('Nhập vào số giây: '))\n",
    "hr = seconds//3600\n",
    "min = seconds//60 - hr*60\n",
    "sec = seconds - hr*3600 - min*60\n",
    "print(f'{seconds} giây tương đương với {hr}:{min}:{sec}')"
   ]
  },
  {
   "cell_type": "markdown",
   "metadata": {},
   "source": [
    "## Question 3:\n",
    "Viết chương trình nhập vào 4 số nguyên.\n",
    "Hiển thị ra số lớn nhất và nhỏ nhất\n",
    "Ví dụ:\n",
    "Nhập vào 4 số 1,2,3,4 thì kết quả là:\n",
    "Số lớn nhất là: 4, \n",
    "Số nhỏ nhất là: 1\n"
   ]
  },
  {
   "cell_type": "code",
   "execution_count": 13,
   "metadata": {},
   "outputs": [
    {
     "name": "stdout",
     "output_type": "stream",
     "text": [
      "Trong các số [0, 3, 2, -10] thì Số lớn nhất là: 3, Số nhỏ nhất là: -10\n"
     ]
    }
   ],
   "source": [
    "lst = []\n",
    "lst.append(int(input('Nhập vào số thứ 1: ')))\n",
    "lst.append(int(input('Nhập vào số thứ 2: ')))\n",
    "lst.append(int(input('Nhập vào số thứ 3: ')))\n",
    "lst.append(int(input('Nhập vào số thứ 4: ')))\n",
    "min = lst[0]\n",
    "max = lst[0]\n",
    "for num in lst:\n",
    "    if min > num:\n",
    "        min = num\n",
    "    if max < num:\n",
    "        max = num\n",
    "print(f'Trong các số {lst} thì Số lớn nhất là: {max}, Số nhỏ nhất là: {min}')"
   ]
  },
  {
   "cell_type": "markdown",
   "metadata": {},
   "source": [
    "## Question 4:\n",
    "Nhập vào hai số tự nhiên a và b. Tính hiệu của hai số đó.\n",
    "Nếu hiệu số lớn hơn 0 thì in ra dòng chữ [Số thứ nhất lớn hơn số thứ hai].\n",
    "Nếu hiệu số nhỏ hơn 0 thì in ra dòng chữ [Số thứ nhất nhỏ hơn số thứ hai].\n"
   ]
  },
  {
   "cell_type": "code",
   "execution_count": 18,
   "metadata": {},
   "outputs": [
    {
     "name": "stdout",
     "output_type": "stream",
     "text": [
      "Số thứ nhất 6 lớn hơn số thứ hai 3\n"
     ]
    }
   ],
   "source": [
    "a = int(input('Nhập vào số thứ nhất: '))\n",
    "b = int(input('Nhập vào số thứ hai: '))\n",
    "if (a-b)>0:\n",
    "    print(f'Số thứ nhất {a} lớn hơn số thứ hai {b}')\n",
    "elif (a-b)==0:\n",
    "    print(f'Hai số bằng nhau và bằng {a}')\n",
    "else:\n",
    "    print(f'Số thứ nhất {a} nhỏ hơn số thứ hai {b}')"
   ]
  },
  {
   "cell_type": "markdown",
   "metadata": {},
   "source": [
    "## Question 5:\n",
    "Nhập vào 2 số tự nhiên a và b. Kiểm tra xem a có chia hết cho b không"
   ]
  },
  {
   "cell_type": "code",
   "execution_count": 21,
   "metadata": {},
   "outputs": [
    {
     "name": "stdout",
     "output_type": "stream",
     "text": [
      "6 chia hết cho 3\n"
     ]
    }
   ],
   "source": [
    "a = int(input('Nhập vào số thứ nhất: '))\n",
    "b = int(input('Nhập vào số thứ hai: '))\n",
    "if a%b == 0:\n",
    "    print(f'{a} chia hết cho {b}')\n",
    "else:\n",
    "    print(f'{a} không chia hết cho {b}')"
   ]
  },
  {
   "cell_type": "markdown",
   "metadata": {},
   "source": [
    "## Question 6:\n",
    "Xếp loại sinh viên theo các quy luật dưới đây:\n",
    "-\tNếu điểm >= 9.0 - Loại xuất sắc\n",
    "-\tNếu 8.0<= điểm < 9.0 - Loại giỏi\n",
    "-\tNếu 7.0<= điểm < 8.0 - Loại khá\n",
    "-\tNếu 6.0 <= điểm < 7.0 - Loại trung bình khá\n",
    "-\tNếu 5.0 <= điểm < 6.0 - Loại trung bình\n",
    "-\tNếu điểm < 5.0 - Loại kém  \n",
    "Với điểm = ( (điểm toán)*2 + điểm lý + điểm hóa )/4  \n",
    "Viết Chương trình:  \n",
    "a. Nhập vào điểm 3 môn học  \n",
    "b. Tính điểm trung bình  \n",
    "c. Xác định học lực của học sinh dựa trên điểm trung bình  \n",
    "d. Hiển thị học lực của học sinh\n"
   ]
  },
  {
   "cell_type": "code",
   "execution_count": 23,
   "metadata": {},
   "outputs": [
    {
     "name": "stdout",
     "output_type": "stream",
     "text": [
      "Điểm Toán: 9.0, Điểm Lý: 7.0, Điểm Hóa: 8.0\n",
      "Điểm trung bình là: 8.25\n",
      "Loại giỏi\n"
     ]
    }
   ],
   "source": [
    "toan = float(input('Nhập vào điểm Toán: '))\n",
    "ly = float(input('Nhập vào điểm Lý: '))\n",
    "hoa = float(input('Nhập vào điểm Hóa: '))\n",
    "tb = round((toan * 2 + ly + hoa)/4,2)\n",
    "print(f'Điểm Toán: {toan}, Điểm Lý: {ly}, Điểm Hóa: {hoa}')\n",
    "print(f'Điểm trung bình là: {tb}')\n",
    "if tb >= 9:\n",
    "    print('Loại xuất sắc')\n",
    "elif 8 <= tb <9:\n",
    "    print('Loại giỏi')\n",
    "elif 7 <= tb <8:\n",
    "    print('Loại khá')\n",
    "elif 6 <= tb <7:\n",
    "    print('Loại trung bình khá')\n",
    "elif 5 <= tb <6:\n",
    "    print('Loại trung bình')\n",
    "else:\n",
    "    print('Loại kém')\n"
   ]
  },
  {
   "cell_type": "markdown",
   "metadata": {},
   "source": [
    "# Exercise 2:"
   ]
  },
  {
   "cell_type": "markdown",
   "metadata": {},
   "source": [
    "## Question 1:\n",
    "Hãy viết chương trình tính tổng các chữ số của một số nguyên bất kỳ.  \n",
    "Ví dụ: Số 8545604 có tổng các chữ số là: 8+5+4+5+6+0+4=32"
   ]
  },
  {
   "cell_type": "code",
   "execution_count": 25,
   "metadata": {},
   "outputs": [
    {
     "name": "stdout",
     "output_type": "stream",
     "text": [
      "Tổng các chữ số của số nguyên 8545604 là: 32\n"
     ]
    }
   ],
   "source": [
    "number = input('Hãy nhập vào một số nguyên bất kỳ: ')\n",
    "sum = 0\n",
    "for num in number:\n",
    "    sum += int(num)\n",
    "print(f'Tổng các chữ số của số nguyên {number} là: {sum}')"
   ]
  },
  {
   "cell_type": "markdown",
   "metadata": {},
   "source": [
    "## Question 2:\n",
    "Viết chương trình phân tích một số nguyên thành các thừa số nguyên tố  \n",
    "Ví dụ: Số 28 được phân tích thành 2 x 2 x 7\n"
   ]
  },
  {
   "cell_type": "code",
   "execution_count": 35,
   "metadata": {},
   "outputs": [
    {
     "name": "stdout",
     "output_type": "stream",
     "text": [
      "Số 28 được phân tích thành tích của các số nguyên tố sau [2, 2, 7]\n"
     ]
    }
   ],
   "source": [
    "n = int(input('Nhập vào số nguyên dương bất kỳ: '))\n",
    "n_new = n\n",
    "lst = []\n",
    "for i in range (2, n+1):\n",
    "    while n_new%i == 0:\n",
    "        lst.append(i)\n",
    "        n_new = n_new / i\n",
    "    i += 1\n",
    "print(f'Số {n} được phân tích thành tích của các số nguyên tố sau {lst}')\n",
    "\n",
    "\n"
   ]
  },
  {
   "cell_type": "markdown",
   "metadata": {},
   "source": [
    "## Question 3:\n",
    "Viết chương trình liệt kê tất cả các số nguyên tố nhỏ hơn n cho trước."
   ]
  },
  {
   "cell_type": "code",
   "execution_count": 47,
   "metadata": {},
   "outputs": [
    {
     "name": "stdout",
     "output_type": "stream",
     "text": [
      "Các số nguyên tố nhỏ hơn 33 là:\n",
      "[2, 3, 5, 7, 11, 13, 17, 19, 23, 29, 31]\n"
     ]
    }
   ],
   "source": [
    "def is_prime(num):\n",
    "    if num <= 1:\n",
    "        return False\n",
    "    elif num <= 3:\n",
    "        return True\n",
    "    elif num % 2 == 0 or num % 3 == 0:\n",
    "        return False\n",
    "    i = 5\n",
    "    while i * i <= num:\n",
    "        if num % i == 0 or num % (i + 2) == 0:\n",
    "            return False\n",
    "        i += 6\n",
    "    return True\n",
    "\n",
    "def list_primes_less_than_n(n):\n",
    "    primes = []\n",
    "    for i in range(2, n):\n",
    "        if is_prime(i):\n",
    "            primes.append(i)\n",
    "    return primes\n",
    "\n",
    "n = int(input('Nhập vào một số nguyên dương: '))\n",
    "print(f'Các số nguyên tố nhỏ hơn {n} là:')\n",
    "print(list_primes_less_than_n(n))"
   ]
  },
  {
   "cell_type": "markdown",
   "metadata": {},
   "source": [
    "## Question 4:\n",
    "Viết chương trình liệt kê n số nguyên tố đầu tiên."
   ]
  },
  {
   "cell_type": "code",
   "execution_count": 49,
   "metadata": {},
   "outputs": [
    {
     "name": "stdout",
     "output_type": "stream",
     "text": [
      "10 số nguyên tố đầu tiên là: \n",
      "[2, 3, 5, 7, 11, 13, 17, 19, 23, 29]\n"
     ]
    }
   ],
   "source": [
    "def is_prime(num):\n",
    "    if num <= 1:\n",
    "        return False\n",
    "    elif num <= 3:\n",
    "        return True\n",
    "    elif num % 2 == 0 or num % 3 == 0:\n",
    "        return False\n",
    "    i = 5\n",
    "    while i * i <= num:\n",
    "        if num % i == 0 or num % (i + 2) == 0:\n",
    "            return False\n",
    "        i += 6\n",
    "    return True\n",
    "\n",
    "def list_first_n_primes(n):\n",
    "    primes = []\n",
    "    num = 2\n",
    "    while len(primes) < n:\n",
    "        if is_prime(num):\n",
    "            primes.append(num)\n",
    "        num += 1\n",
    "    return primes\n",
    "\n",
    "n = int(input('Nhập vào số nguyên dương bất kỳ: '))\n",
    "print(f'{n} số nguyên tố đầu tiên là: ')\n",
    "print(list_first_n_primes(n))"
   ]
  },
  {
   "cell_type": "code",
   "execution_count": null,
   "metadata": {},
   "outputs": [],
   "source": []
  }
 ],
 "metadata": {
  "kernelspec": {
   "display_name": "Python 3",
   "language": "python",
   "name": "python3"
  },
  "language_info": {
   "codemirror_mode": {
    "name": "ipython",
    "version": 3
   },
   "file_extension": ".py",
   "mimetype": "text/x-python",
   "name": "python",
   "nbconvert_exporter": "python",
   "pygments_lexer": "ipython3",
   "version": "3.12.1"
  }
 },
 "nbformat": 4,
 "nbformat_minor": 2
}
